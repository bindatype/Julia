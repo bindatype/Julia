{
 "cells": [
  {
   "cell_type": "code",
   "execution_count": null,
   "metadata": {},
   "outputs": [],
   "source": [
    "function count_heads(n)\n",
    "    c::Int = 0\n",
    "    for i = 1:n\n",
    "        c += rand(Bool)\n",
    "    end\n",
    "    c\n",
    "end\n"
   ]
  },
  {
   "cell_type": "code",
   "execution_count": 4,
   "metadata": {},
   "outputs": [
    {
     "data": {
      "text/plain": [
       "1-element Array{Int64,1}:\n",
       " 1"
      ]
     },
     "execution_count": 4,
     "metadata": {},
     "output_type": "execute_result"
    }
   ],
   "source": [
    "workers()"
   ]
  },
  {
   "cell_type": "code",
   "execution_count": null,
   "metadata": {},
   "outputs": [],
   "source": [
    "@time count_heads(10_000_000_000)"
   ]
  },
  {
   "cell_type": "code",
   "execution_count": 7,
   "metadata": {},
   "outputs": [
    {
     "data": {
      "text/plain": [
       "16-element Array{Int64,1}:\n",
       "  2\n",
       "  3\n",
       "  4\n",
       "  5\n",
       "  6\n",
       "  7\n",
       "  8\n",
       "  9\n",
       " 10\n",
       " 11\n",
       " 12\n",
       " 13\n",
       " 14\n",
       " 15\n",
       " 16\n",
       " 17"
      ]
     },
     "execution_count": 7,
     "metadata": {},
     "output_type": "execute_result"
    }
   ],
   "source": [
    "addprocs(16)"
   ]
  },
  {
   "cell_type": "code",
   "execution_count": 8,
   "metadata": {},
   "outputs": [
    {
     "data": {
      "text/plain": [
       "16-element Array{Int64,1}:\n",
       "  2\n",
       "  3\n",
       "  4\n",
       "  5\n",
       "  6\n",
       "  7\n",
       "  8\n",
       "  9\n",
       " 10\n",
       " 11\n",
       " 12\n",
       " 13\n",
       " 14\n",
       " 15\n",
       " 16\n",
       " 17"
      ]
     },
     "execution_count": 8,
     "metadata": {},
     "output_type": "execute_result"
    }
   ],
   "source": [
    "workers()"
   ]
  },
  {
   "cell_type": "code",
   "execution_count": 10,
   "metadata": {},
   "outputs": [
    {
     "name": "stdout",
     "output_type": "stream",
     "text": [
      " 24.620652 seconds (5 allocations: 176 bytes)\n"
     ]
    },
    {
     "data": {
      "text/plain": [
       "4999882816"
      ]
     },
     "execution_count": 10,
     "metadata": {},
     "output_type": "execute_result"
    }
   ],
   "source": [
    "@time count_heads(10_000_000_000)"
   ]
  },
  {
   "cell_type": "code",
   "execution_count": 11,
   "metadata": {},
   "outputs": [],
   "source": [
    "@everywhere function count_heads(n)\n",
    "    c::Int = 0\n",
    "    for i = 1:n\n",
    "        c += rand(Bool)\n",
    "    end\n",
    "    c\n",
    "end"
   ]
  },
  {
   "cell_type": "code",
   "execution_count": 14,
   "metadata": {},
   "outputs": [
    {
     "data": {
      "text/plain": [
       "Future(3, 1, 36, Nullable{Any}())"
      ]
     },
     "execution_count": 14,
     "metadata": {},
     "output_type": "execute_result"
    }
   ],
   "source": [
    "a = @spawn count_heads(10_000_000_000)"
   ]
  },
  {
   "cell_type": "code",
   "execution_count": 15,
   "metadata": {},
   "outputs": [
    {
     "name": "stdout",
     "output_type": "stream",
     "text": [
      " 21.840213 seconds (8.75 k allocations: 439.473 KiB)\n"
     ]
    },
    {
     "data": {
      "text/plain": [
       "4999992335"
      ]
     },
     "execution_count": 15,
     "metadata": {},
     "output_type": "execute_result"
    }
   ],
   "source": [
    "@time fetch(a)"
   ]
  },
  {
   "cell_type": "code",
   "execution_count": 18,
   "metadata": {},
   "outputs": [
    {
     "data": {
      "text/plain": [
       "Future(5, 1, 40, Nullable{Any}())"
      ]
     },
     "execution_count": 18,
     "metadata": {},
     "output_type": "execute_result"
    }
   ],
   "source": [
    "b=@spawn count_heads(10_000_000_000)"
   ]
  },
  {
   "cell_type": "code",
   "execution_count": 19,
   "metadata": {},
   "outputs": [
    {
     "name": "stdout",
     "output_type": "stream",
     "text": [
      " 21.745674 seconds (544 allocations: 16.641 KiB)\n"
     ]
    },
    {
     "data": {
      "text/plain": [
       "10000022242"
      ]
     },
     "execution_count": 19,
     "metadata": {},
     "output_type": "execute_result"
    }
   ],
   "source": [
    "@time fetch(a)+fetch(b)"
   ]
  },
  {
   "cell_type": "code",
   "execution_count": 20,
   "metadata": {},
   "outputs": [
    {
     "data": {
      "text/plain": [
       "count_heads2 (generic function with 1 method)"
      ]
     },
     "execution_count": 20,
     "metadata": {},
     "output_type": "execute_result"
    }
   ],
   "source": [
    "function count_heads2(n)\n",
    "    c::Int = 0\n",
    "    @parallel for i = 1:n\n",
    "        c += rand(Bool)\n",
    "    end\n",
    "    c\n",
    "end"
   ]
  },
  {
   "cell_type": "code",
   "execution_count": 22,
   "metadata": {},
   "outputs": [
    {
     "name": "stdout",
     "output_type": "stream",
     "text": [
      "  0.001661 seconds (2.36 k allocations: 83.188 KiB)\n"
     ]
    },
    {
     "data": {
      "text/plain": [
       "0"
      ]
     },
     "execution_count": 22,
     "metadata": {},
     "output_type": "execute_result"
    }
   ],
   "source": [
    "@time count_heads2(10_000_000_000)"
   ]
  },
  {
   "cell_type": "markdown",
   "metadata": {},
   "source": [
    "Note the addition of the (+) reduction operator below and the effect that it has. "
   ]
  },
  {
   "cell_type": "code",
   "execution_count": 3,
   "metadata": {},
   "outputs": [
    {
     "data": {
      "text/plain": [
       "count_heads3 (generic function with 1 method)"
      ]
     },
     "execution_count": 3,
     "metadata": {},
     "output_type": "execute_result"
    }
   ],
   "source": [
    "function count_heads3(n)\n",
    "    c::Int = 0\n",
    "    c= @parallel (+) for i = 1:n\n",
    "        rand(Bool)\n",
    "    end\n",
    "    c\n",
    "end"
   ]
  },
  {
   "cell_type": "code",
   "execution_count": 4,
   "metadata": {},
   "outputs": [
    {
     "name": "stdout",
     "output_type": "stream",
     "text": [
      "  0.572981 seconds (20.09 M allocations: 310.071 MiB, 4.93% gc time)\n"
     ]
    },
    {
     "data": {
      "text/plain": [
       "4998196"
      ]
     },
     "execution_count": 4,
     "metadata": {},
     "output_type": "execute_result"
    }
   ],
   "source": [
    "@time count_heads3(10_000_000)"
   ]
  },
  {
   "cell_type": "code",
   "execution_count": 29,
   "metadata": {},
   "outputs": [
    {
     "data": {
      "text/plain": [
       "computePi (generic function with 1 method)"
      ]
     },
     "execution_count": 29,
     "metadata": {},
     "output_type": "execute_result"
    }
   ],
   "source": [
    "function computePi(size)\n",
    "    x=rand(size,2)\n",
    "    count =0;\n",
    "    for i ∈ 1:size \n",
    "        if +(x[i,1]^2,x[i,2]^2) <=1\n",
    "            count+=1\n",
    "       # println(count)\n",
    "        end\n",
    "    end\n",
    " return(4*count/size)\n",
    "end"
   ]
  },
  {
   "cell_type": "code",
   "execution_count": 72,
   "metadata": {},
   "outputs": [
    {
     "name": "stdout",
     "output_type": "stream",
     "text": [
      "  0.000235 seconds (7 allocations: 156.500 KiB)\n"
     ]
    },
    {
     "data": {
      "text/plain": [
       "3.132"
      ]
     },
     "execution_count": 72,
     "metadata": {},
     "output_type": "execute_result"
    }
   ],
   "source": [
    "@time computePi(10000)"
   ]
  },
  {
   "cell_type": "code",
   "execution_count": 35,
   "metadata": {},
   "outputs": [
    {
     "data": {
      "text/plain": [
       "8-element Array{Int64,1}:\n",
       " 2\n",
       " 3\n",
       " 4\n",
       " 5\n",
       " 6\n",
       " 7\n",
       " 8\n",
       " 9"
      ]
     },
     "execution_count": 35,
     "metadata": {},
     "output_type": "execute_result"
    }
   ],
   "source": [
    "workers()"
   ]
  },
  {
   "cell_type": "code",
   "execution_count": 131,
   "metadata": {},
   "outputs": [],
   "source": [
    "@everywhere  f(s,count)=(println(\"process id = $(myid()) s = $s count = $count\");repeat(s,count))"
   ]
  },
  {
   "cell_type": "code",
   "execution_count": 132,
   "metadata": {},
   "outputs": [
    {
     "name": "stdout",
     "output_type": "stream",
     "text": [
      "\tFrom worker 7:\tprocess id = 7 s = x count = 2\n",
      "\tFrom worker 5:\tprocess id = 5 s = z count = 3\n",
      "\tFrom worker 4:\tprocess id = 4 s = y count = 1\n"
     ]
    },
    {
     "data": {
      "text/plain": [
       "3-element Array{String,1}:\n",
       " \"xx\" \n",
       " \"y\"  \n",
       " \"zzz\""
      ]
     },
     "execution_count": 132,
     "metadata": {},
     "output_type": "execute_result"
    }
   ],
   "source": [
    "pmap((j1,j2)->f(j1,j2),(\"x\",\"y\",\"z\"),(2,1,3))"
   ]
  },
  {
   "cell_type": "code",
   "execution_count": 133,
   "metadata": {},
   "outputs": [
    {
     "data": {
      "text/plain": [
       "8-element Array{Int64,1}:\n",
       " 2\n",
       " 3\n",
       " 4\n",
       " 5\n",
       " 6\n",
       " 7\n",
       " 8\n",
       " 9"
      ]
     },
     "execution_count": 133,
     "metadata": {},
     "output_type": "execute_result"
    }
   ],
   "source": [
    "workers()"
   ]
  },
  {
   "cell_type": "code",
   "execution_count": 129,
   "metadata": {},
   "outputs": [],
   "source": [
    "@everywhere function evalPi(size)\n",
    "    println(\"process id = $(myid()) size=$size\")\n",
    "    x=rand(size,2)\n",
    "    count =0;\n",
    "    for i ∈ 1:size \n",
    "        if +(x[i,1]^2,x[i,2]^2) <=1\n",
    "            count+=1\n",
    "       # println(count)\n",
    "        end\n",
    "    end\n",
    " return(4*count/size)\n",
    "end"
   ]
  },
  {
   "cell_type": "code",
   "execution_count": 135,
   "metadata": {},
   "outputs": [
    {
     "name": "stdout",
     "output_type": "stream",
     "text": [
      "\tFrom worker 2:\tprocess id = 2 size=10000\n",
      "\tFrom worker 8:\tprocess id = 8 size=10000\n",
      "\tFrom worker 6:\tprocess id = 6 size=1000\n",
      "\tFrom worker 3:\tprocess id = 3 size=100\n",
      "\tFrom worker 7:\tprocess id = 7 size=100000\n",
      "  0.458248 seconds (233.73 k allocations: 12.394 MiB, 2.12% gc time)\n"
     ]
    },
    {
     "data": {
      "text/plain": [
       "(3.12, 3.088, 3.1072, 3.1388, 3.1524)"
      ]
     },
     "execution_count": 135,
     "metadata": {},
     "output_type": "execute_result"
    }
   ],
   "source": [
    "@time pmap((j1)->evalPi(j1),(100,1000,10000,10000,100000))"
   ]
  },
  {
   "cell_type": "code",
   "execution_count": 126,
   "metadata": {},
   "outputs": [
    {
     "name": "stdout",
     "output_type": "stream",
     "text": [
      "  0.000200 seconds (7 allocations: 156.500 KiB)\n"
     ]
    },
    {
     "data": {
      "text/plain": [
       "3.162"
      ]
     },
     "execution_count": 126,
     "metadata": {},
     "output_type": "execute_result"
    }
   ],
   "source": [
    "@time computePi(10000)"
   ]
  },
  {
   "cell_type": "code",
   "execution_count": 118,
   "metadata": {},
   "outputs": [],
   "source": [
    "A = rand(1000,1000);\n",
    "localMatrix = @spawn A^2;"
   ]
  },
  {
   "cell_type": "code",
   "execution_count": 55,
   "metadata": {},
   "outputs": [
    {
     "name": "stdout",
     "output_type": "stream",
     "text": [
      "  0.000007 seconds (4 allocations: 160 bytes)\n"
     ]
    },
    {
     "data": {
      "text/plain": [
       "1000×1000 Array{Float64,2}:\n",
       " 260.52   253.76   267.495  264.062  …  259.354  250.77   259.938  264.261\n",
       " 248.215  247.492  259.034  263.735     249.344  246.069  253.047  257.402\n",
       " 249.903  246.368  261.854  260.075     251.211  248.078  257.343  253.846\n",
       " 265.565  252.122  264.351  259.56      258.98   250.352  258.071  262.725\n",
       " 248.179  247.249  258.766  258.182     253.61   242.182  250.426  254.114\n",
       " 251.887  237.357  255.759  257.238  …  255.031  239.289  247.214  253.769\n",
       " 263.012  255.495  266.472  272.497     263.48   248.965  263.786  264.776\n",
       " 257.413  252.408  264.881  275.088     263.641  258.39   266.159  263.288\n",
       " 252.401  248.397  258.273  263.821     254.573  242.144  255.405  255.724\n",
       " 265.012  255.587  262.185  267.713     263.091  254.916  262.622  263.235\n",
       " 243.642  236.542  247.562  261.098  …  242.117  241.936  245.515  246.527\n",
       " 260.355  250.617  262.671  261.808     255.072  246.829  262.81   255.918\n",
       " 264.607  251.277  272.506  267.892     263.93   254.64   262.839  267.117\n",
       "   ⋮                                 ⋱                                    \n",
       " 253.351  237.439  254.237  257.244     244.972  240.933  250.3    249.721\n",
       " 254.672  253.328  254.663  264.411     255.527  251.317  256.753  259.035\n",
       " 251.657  242.476  254.094  258.287  …  249.69   244.172  251.782  253.263\n",
       " 260.29   252.258  260.609  267.609     257.494  252.588  260.938  261.422\n",
       " 261.264  249.252  268.168  264.395     255.664  246.955  257.198  264.176\n",
       " 247.714  242.755  262.487  262.871     250.979  240.777  249.233  257.071\n",
       " 253.273  246.676  264.189  262.505     256.439  250.455  257.44   256.251\n",
       " 258.141  250.819  256.955  265.308  …  257.856  245.97   258.434  254.872\n",
       " 252.1    247.296  254.413  258.9       251.042  239.808  247.722  251.993\n",
       " 256.199  243.808  261.8    263.888     250.637  248.238  250.294  258.099\n",
       " 254.222  245.73   260.632  266.059     252.085  245.887  255.201  253.303\n",
       " 248.859  243.841  255.695  256.443     247.08   239.239  250.979  252.812"
      ]
     },
     "execution_count": 55,
     "metadata": {},
     "output_type": "execute_result"
    }
   ],
   "source": [
    "@time fetch(localMatrix)"
   ]
  },
  {
   "cell_type": "code",
   "execution_count": 51,
   "metadata": {},
   "outputs": [],
   "source": [
    "remoteMatrix = @spawn rand(1000,1000)^2;"
   ]
  },
  {
   "cell_type": "code",
   "execution_count": 56,
   "metadata": {},
   "outputs": [
    {
     "name": "stdout",
     "output_type": "stream",
     "text": [
      "  0.000008 seconds (4 allocations: 160 bytes)\n"
     ]
    },
    {
     "data": {
      "text/plain": [
       "1000×1000 Array{Float64,2}:\n",
       " 247.996  244.262  251.906  253.731  …  245.85   250.348  255.256  249.565\n",
       " 248.555  239.26   239.544  244.496     244.596  248.454  247.904  245.72 \n",
       " 242.503  232.143  242.802  240.25      232.577  246.955  245.373  236.031\n",
       " 252.4    251.932  250.327  251.938     247.719  257.788  262.845  250.929\n",
       " 248.078  237.56   239.771  241.929     234.168  243.531  242.875  237.163\n",
       " 244.138  240.365  243.888  241.682  …  244.793  249.125  249.535  241.773\n",
       " 257.878  245.312  248.935  250.063     249.95   251.193  261.248  247.712\n",
       " 251.744  242.842  250.96   252.288     251.031  255.031  256.808  251.317\n",
       " 248.128  238.073  243.132  246.079     242.379  249.644  253.036  239.733\n",
       " 253.256  243.798  249.896  248.58      249.831  254.489  257.388  249.239\n",
       " 248.533  241.929  248.439  247.261  …  244.889  250.766  260.006  245.304\n",
       " 249.856  241.078  253.12   250.999     243.015  249.292  252.808  245.022\n",
       " 257.295  238.701  252.114  251.329     255.627  255.062  262.93   252.546\n",
       "   ⋮                                 ⋱                                    \n",
       " 249.272  236.978  241.009  249.652     242.984  245.351  249.354  241.124\n",
       " 254.37   244.796  248.855  255.725     250.832  252.493  263.849  251.546\n",
       " 254.166  248.012  252.585  256.191  …  249.775  257.148  258.472  247.892\n",
       " 252.692  245.28   250.186  249.946     249.716  251.129  258.751  252.122\n",
       " 247.525  244.611  250.328  247.991     243.932  251.894  256.951  246.585\n",
       " 247.815  237.875  243.869  243.916     242.368  246.536  252.1    242.19 \n",
       " 247.194  237.744  244.302  246.154     247.698  248.704  248.255  244.972\n",
       " 247.879  244.02   240.958  241.78   …  243.012  243.242  250.768  242.825\n",
       " 252.554  245.242  252.679  252.358     247.169  256.955  265.482  250.713\n",
       " 247.072  241.027  243.334  242.785     241.061  248.478  255.466  241.893\n",
       " 256.112  242.634  251.41   245.739     244.193  247.461  249.424  243.633\n",
       " 246.862  241.893  245.092  244.908     244.903  254.527  251.787  242.325"
      ]
     },
     "execution_count": 56,
     "metadata": {},
     "output_type": "execute_result"
    }
   ],
   "source": [
    "@time fetch(remoteMatrix)"
   ]
  },
  {
   "cell_type": "code",
   "execution_count": 96,
   "metadata": {},
   "outputs": [],
   "source": [
    "@everywhere  f(s,count)=(println(\"process id = $(myid()) s = $s count = $count\");repeat(s,count))"
   ]
  },
  {
   "cell_type": "code",
   "execution_count": 102,
   "metadata": {},
   "outputs": [
    {
     "name": "stdout",
     "output_type": "stream",
     "text": [
      "\tFrom worker 6:\t[1 2 3 4000]process id = 6 s = x count = 2\n",
      "\tFrom worker 7:\tprocess id = 7 s = z count = 3\n",
      "\tFrom worker 4:\t[1 2000 3 4]process id = 4 s = y count = 1\n"
     ]
    },
    {
     "data": {
      "text/plain": [
       "3-element Array{Void,1}:\n",
       " nothing\n",
       " nothing\n",
       " nothing"
      ]
     },
     "execution_count": 102,
     "metadata": {},
     "output_type": "execute_result"
    }
   ],
   "source": [
    "pmap((j1,j2)->f(j1,j2),(\"x\",\"y\",\"z\"),(2,1,3))"
   ]
  },
  {
   "cell_type": "code",
   "execution_count": 89,
   "metadata": {},
   "outputs": [
    {
     "data": {
      "text/plain": [
       "4-element Array{Future,1}:\n",
       " Future(3, 1, 194, #NULL)\n",
       " Future(4, 1, 195, #NULL)\n",
       " Future(5, 1, 196, #NULL)\n",
       " Future(6, 1, 197, #NULL)"
      ]
     },
     "execution_count": 89,
     "metadata": {},
     "output_type": "execute_result"
    }
   ],
   "source": [
    "@everywhere a = [1 2 3 4]\n",
    "@parallel  for i=1:4\n",
    " a[i]=i*1000\n",
    " print(a)\n",
    "end\n"
   ]
  },
  {
   "cell_type": "code",
   "execution_count": 91,
   "metadata": {},
   "outputs": [
    {
     "name": "stdout",
     "output_type": "stream",
     "text": [
      "\tFrom worker 3:\t[1000 2 3 4]process id = 3 s = a count = 2\n",
      "\tFrom worker 9:\tprocess id = 9 s = b count = 1\n",
      "\tFrom worker 2:\tprocess id = 2 s = c count = 3\n"
     ]
    },
    {
     "data": {
      "text/plain": [
       "3-element Array{String,1}:\n",
       " \"aa\" \n",
       " \"b\"  \n",
       " \"ccc\""
      ]
     },
     "execution_count": 91,
     "metadata": {},
     "output_type": "execute_result"
    }
   ],
   "source": [
    "pmap((j1,j2)->f(j1,j2),(\"a\",\"b\",\"c\"),(2,1,3))"
   ]
  },
  {
   "cell_type": "code",
   "execution_count": null,
   "metadata": {},
   "outputs": [],
   "source": []
  },
  {
   "cell_type": "code",
   "execution_count": null,
   "metadata": {},
   "outputs": [],
   "source": []
  }
 ],
 "metadata": {
  "kernelspec": {
   "display_name": "Julia 0.6.2",
   "language": "julia",
   "name": "julia-0.6"
  },
  "language_info": {
   "file_extension": ".jl",
   "mimetype": "application/julia",
   "name": "julia",
   "version": "0.6.2"
  }
 },
 "nbformat": 4,
 "nbformat_minor": 2
}
